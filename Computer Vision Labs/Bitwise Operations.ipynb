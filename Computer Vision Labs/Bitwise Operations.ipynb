{
 "cells": [
  {
   "cell_type": "code",
   "execution_count": 2,
   "id": "0786b40d-df4d-4f64-862d-83807698a1cf",
   "metadata": {},
   "outputs": [],
   "source": [
    "import cv2\n",
    "import numpy as np"
   ]
  },
  {
   "cell_type": "code",
   "execution_count": 10,
   "id": "2bbba788-2b94-4e5c-8cb5-d1db87ef3e62",
   "metadata": {},
   "outputs": [],
   "source": [
    "img1=np.zeros([250,500,3],np.uint8)\n",
    "img1=cv2.rectangle(img1,(50,50),(200,250),(255,255,255),-1)\n",
    "img2=np.zeros([250,500,3],np.uint8)\n",
    "img2=cv2.rectangle(img2,(10,10),(170,190),(255,255,255),-1)\n",
    "\n",
    "cv2.imshow('img1',img1)\n",
    "cv2.imshow('img2',img2)\n",
    "cv2.waitKey(0)\n",
    "cv2.destroyAllWindows()"
   ]
  },
  {
   "cell_type": "markdown",
   "id": "59da515d-1f1f-4cf8-891b-97eb9fc304f4",
   "metadata": {},
   "source": [
    "## bitwwise and"
   ]
  },
  {
   "cell_type": "code",
   "execution_count": 12,
   "id": "edefd824-30af-47df-badd-21d0da55553d",
   "metadata": {},
   "outputs": [],
   "source": [
    "img1=np.zeros([250,500,3],np.uint8)\n",
    "img1=cv2.rectangle(img1,(50,50),(200,250),(255,255,255),-1)\n",
    "img2=np.zeros([250,500,3],np.uint8)\n",
    "img2=cv2.rectangle(img2,(10,10),(170,190),(255,255,255),-1)\n",
    "bitAnd=cv2.bitwise_and(img1,img2)\n",
    "cv2.imshow('bitwise and',bitAnd)\n",
    "cv2.imshow('img1',img1)\n",
    "cv2.imshow('img2',img2)\n",
    "cv2.waitKey(0)\n",
    "cv2.destroyAllWindows()"
   ]
  },
  {
   "cell_type": "markdown",
   "id": "1709a811-c4ac-47f1-a2df-17f66538b6a2",
   "metadata": {},
   "source": [
    "## bitwise or"
   ]
  },
  {
   "cell_type": "code",
   "execution_count": 17,
   "id": "51a4ad56-b494-4d16-9a42-3e5a93d13b1f",
   "metadata": {},
   "outputs": [],
   "source": [
    "img1=np.zeros([250,500,3],np.uint8)\n",
    "img1=cv2.rectangle(img1,(50,50),(200,250),(255,255,255),-1)\n",
    "img2=np.zeros([250,500,3],np.uint8)\n",
    "img2=cv2.rectangle(img2,(10,10),(170,190),(255,255,255),-1)\n",
    "bitor=cv2.bitwise_or(img2,img1)\n",
    "cv2.imshow('bitwise or',bitor)\n",
    "# cv2.imshow('img1',img1)\n",
    "# cv2.imshow('img2',img2)\n",
    "cv2.waitKey(0)\n",
    "cv2.destroyAllWindows()"
   ]
  },
  {
   "cell_type": "markdown",
   "id": "a328b4ec-a376-4ea3-99f8-066643f2af13",
   "metadata": {},
   "source": [
    "## bitwise not"
   ]
  },
  {
   "cell_type": "code",
   "execution_count": 18,
   "id": "bee0838a-de9a-401a-9d4a-ecfcdd04962a",
   "metadata": {},
   "outputs": [],
   "source": [
    "img1=np.zeros([250,500,3],np.uint8)\n",
    "img1=cv2.rectangle(img1,(50,50),(200,250),(255,255,255),-1)\n",
    "img2=np.zeros([250,500,3],np.uint8)\n",
    "img2=cv2.rectangle(img2,(10,10),(170,190),(255,255,255),-1)\n",
    "bitnot=cv2.bitwise_not(img2,img1)\n",
    "cv2.imshow('bitwise not',bitnot)\n",
    "# cv2.imshow('img1',img1)\n",
    "# cv2.imshow('img2',img2)\n",
    "cv2.waitKey(0)\n",
    "cv2.destroyAllWindows()"
   ]
  },
  {
   "cell_type": "markdown",
   "id": "64a44b7d-3728-4bc9-aec6-55b425a89e62",
   "metadata": {},
   "source": [
    "## bitwise xor"
   ]
  },
  {
   "cell_type": "code",
   "execution_count": 20,
   "id": "b1c79dac-284e-4aca-80bd-ddea17a2dc99",
   "metadata": {},
   "outputs": [],
   "source": [
    "img1=np.zeros([250,500,3],np.uint8)\n",
    "img1=cv2.rectangle(img1,(50,50),(200,250),(255,255,255),-1)\n",
    "img2=np.zeros([250,500,3],np.uint8)\n",
    "img2=cv2.rectangle(img2,(10,10),(170,190),(255,255,255),-1)\n",
    "bitxor=cv2.bitwise_xor(img2,img1)\n",
    "cv2.imshow('bitwise xor',bitxor)\n",
    "cv2.imshow('img1',img1)\n",
    "cv2.imshow('img2',img2)\n",
    "cv2.waitKey(0)\n",
    "cv2.destroyAllWindows()"
   ]
  },
  {
   "cell_type": "code",
   "execution_count": null,
   "id": "8b9c7994-300f-46f4-bd29-213f54a7d56a",
   "metadata": {},
   "outputs": [],
   "source": [
    " "
   ]
  }
 ],
 "metadata": {
  "kernelspec": {
   "display_name": "Python 3 (ipykernel)",
   "language": "python",
   "name": "python3"
  },
  "language_info": {
   "codemirror_mode": {
    "name": "ipython",
    "version": 3
   },
   "file_extension": ".py",
   "mimetype": "text/x-python",
   "name": "python",
   "nbconvert_exporter": "python",
   "pygments_lexer": "ipython3",
   "version": "3.12.5"
  }
 },
 "nbformat": 4,
 "nbformat_minor": 5
}
