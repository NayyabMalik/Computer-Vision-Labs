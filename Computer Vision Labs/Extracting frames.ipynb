{
 "cells": [
  {
   "cell_type": "code",
   "execution_count": 1,
   "id": "fd52b75c-d6f6-4755-bbdd-71c3d5366a53",
   "metadata": {},
   "outputs": [],
   "source": [
    "import cv2"
   ]
  },
  {
   "cell_type": "code",
   "execution_count": null,
   "id": "01febcdb-586e-4f2a-b67e-2aff34ffaeeb",
   "metadata": {},
   "outputs": [],
   "source": [
    "cap=cv2.VideoCapture(r\"C:\\Users\\PMLS\\Downloads\\tashfeen_raza_output_video.mp4\")\n",
    "ret,frame=cap.read()\n",
    "count=0\n",
    "while True:\n",
    "    # ret,frame=cap.read()\n",
    "    if ret==True:\n",
    "        cv2.imwrite(r\"C:\\Users\\PMLS\\Downloads\\frames\\frameN%d.jpg\"%count,frame)\n",
    "        cap.set(cv2.CAP_PROP_PO_MSEC,(count**100))\n",
    "        ret,frame=cap.read()\n",
    "        cv2.imshow('frame',frame)\n",
    "        count+=1\n",
    "        if cv2.waitKey(1)==ord('q'):\n",
    "            break\n",
    "cap.release()\n",
    "cv2.destroyAllWindows()\n",
    "\n",
    "        \n",
    "        "
   ]
  },
  {
   "cell_type": "code",
   "execution_count": null,
   "id": "ea187039-45ff-4a9e-a7d2-b6a6c7ab95b2",
   "metadata": {},
   "outputs": [],
   "source": []
  }
 ],
 "metadata": {
  "kernelspec": {
   "display_name": "Python 3 (ipykernel)",
   "language": "python",
   "name": "python3"
  },
  "language_info": {
   "codemirror_mode": {
    "name": "ipython",
    "version": 3
   },
   "file_extension": ".py",
   "mimetype": "text/x-python",
   "name": "python",
   "nbconvert_exporter": "python",
   "pygments_lexer": "ipython3",
   "version": "3.12.5"
  }
 },
 "nbformat": 4,
 "nbformat_minor": 5
}
