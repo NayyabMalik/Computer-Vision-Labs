{
 "cells": [
  {
   "cell_type": "code",
   "execution_count": 1,
   "id": "dbba7eb4-b095-424d-991b-f71393241ccb",
   "metadata": {},
   "outputs": [],
   "source": [
    "import cv2\n",
    "import numpy as np"
   ]
  },
  {
   "cell_type": "code",
   "execution_count": 2,
   "id": "06bb6d51-1bb1-435f-89d8-4eb9082e78e1",
   "metadata": {},
   "outputs": [],
   "source": [
    "img=cv2.imread(r\"C:\\Users\\PMLS\\Documents\\computer vision\\bubbles.jpg\")\n",
    "img=cv2.resize(img,(600,400))\n",
    "cv2.imshow('org',img)\n",
    "cv2.waitKey(0)\n",
    "cv2.destroyAllWindows()"
   ]
  },
  {
   "cell_type": "markdown",
   "id": "199fa0be-3beb-4f4d-8ead-3681d5f23127",
   "metadata": {},
   "source": [
    "## color detection on img using trackbar"
   ]
  },
  {
   "cell_type": "code",
   "execution_count": 3,
   "id": "c979da34-1da7-4092-83a1-9212128cac34",
   "metadata": {},
   "outputs": [],
   "source": [
    "import cv2\n",
    "import numpy as np\n",
    "\n",
    "# Callback function for trackbars (does nothing but required for trackbars)\n",
    "def nothing(x):\n",
    "    pass\n",
    "\n",
    "\n",
    "# Create a window for trackbars\n",
    "cv2.namedWindow('Color Detection')\n",
    "\n",
    "# Create trackbars for adjusting HSV values\n",
    "cv2.createTrackbar('Lower Hue', 'Color Detection', 0, 179, nothing)  # Hue range is 0-179 in OpenCV\n",
    "cv2.createTrackbar('Lower Saturation', 'Color Detection', 0, 255, nothing)\n",
    "cv2.createTrackbar('Lower Value', 'Color Detection', 0, 255, nothing)\n",
    "cv2.createTrackbar('Upper Hue', 'Color Detection', 179, 179, nothing)\n",
    "cv2.createTrackbar('Upper Saturation', 'Color Detection', 255, 255, nothing)\n",
    "cv2.createTrackbar('Upper Value', 'Color Detection', 255, 255, nothing)\n",
    "\n",
    "while True:\n",
    "    # Convert the image to HSV color space\n",
    "    hsv = cv2.cvtColor(img, cv2.COLOR_BGR2HSV)\n",
    "\n",
    "    # Get the current positions of trackbars\n",
    "    l_H = cv2.getTrackbarPos('Lower Hue', 'Color Detection')\n",
    "    l_S = cv2.getTrackbarPos('Lower Saturation', 'Color Detection')\n",
    "    l_V = cv2.getTrackbarPos('Lower Value', 'Color Detection')\n",
    "    u_H = cv2.getTrackbarPos('Upper Hue', 'Color Detection')\n",
    "    u_S = cv2.getTrackbarPos('Upper Saturation', 'Color Detection')\n",
    "    u_V = cv2.getTrackbarPos('Upper Value', 'Color Detection')\n",
    "\n",
    "    # Define the lower and upper bounds for HSV\n",
    "    lower_bound = np.array([l_H, l_S, l_V])\n",
    "    upper_bound = np.array([u_H, u_S, u_V])\n",
    "\n",
    "    # Create a mask with the specified HSV range\n",
    "    mask = cv2.inRange(hsv, lower_bound, upper_bound)\n",
    "\n",
    "    # Apply the mask to the original image\n",
    "    res = cv2.bitwise_and(img, img, mask=mask)\n",
    "\n",
    "    # Display the original image, mask, and result\n",
    "    cv2.imshow('Original', img)\n",
    "    cv2.imshow('Mask', mask)\n",
    "    cv2.imshow('Result', res)\n",
    "\n",
    "    # Exit the loop when 'ESC' key is pressed\n",
    "    if cv2.waitKey(1) & 0xFF == 27:\n",
    "        break\n",
    "\n",
    "cv2.destroyAllWindows()\n"
   ]
  },
  {
   "cell_type": "markdown",
   "id": "e3694df7-3156-4226-a001-36254ee3130a",
   "metadata": {},
   "source": [
    "## color detection in live video"
   ]
  },
  {
   "cell_type": "code",
   "execution_count": 3,
   "id": "df2eea92-1f59-4db3-a05a-b75457c23667",
   "metadata": {},
   "outputs": [],
   "source": [
    "cap=cv2.VideoCapture(0)\n",
    "    # Convert the image to HSV color space\n",
    "\n",
    "# Callback function for trackbars (does nothing but required for trackbars)\n",
    "def nothing(x):\n",
    "    pass\n",
    "\n",
    "\n",
    "# Create a window for trackbars\n",
    "cv2.namedWindow('Color Detection')\n",
    "\n",
    "# Create trackbars for adjusting HSV values\n",
    "cv2.createTrackbar('Lower Hue', 'Color Detection', 0, 179, nothing)  # Hue range is 0-179 in OpenCV\n",
    "cv2.createTrackbar('Lower Saturation', 'Color Detection', 0, 255, nothing)\n",
    "cv2.createTrackbar('Lower Value', 'Color Detection', 0, 255, nothing)\n",
    "cv2.createTrackbar('Upper Hue', 'Color Detection', 179, 179, nothing)\n",
    "cv2.createTrackbar('Upper Saturation', 'Color Detection', 255, 255, nothing)\n",
    "cv2.createTrackbar('Upper Value', 'Color Detection', 255, 255, nothing)\n",
    "\n",
    "while True:\n",
    "    ret,frame=cap.read()\n",
    "    frame=cv2.resize(frame,(600,600))\n",
    "    hsv = cv2.cvtColor(frame, cv2.COLOR_BGR2HSV)\n",
    "    l_H = cv2.getTrackbarPos('Lower Hue', 'Color Detection')\n",
    "    l_S = cv2.getTrackbarPos('Lower Saturation', 'Color Detection')\n",
    "    l_V = cv2.getTrackbarPos('Lower Value', 'Color Detection')\n",
    "    u_H = cv2.getTrackbarPos('Upper Hue', 'Color Detection')\n",
    "    u_S = cv2.getTrackbarPos('Upper Saturation', 'Color Detection')\n",
    "    u_V = cv2.getTrackbarPos('Upper Value', 'Color Detection')\n",
    "\n",
    "    # Define the lower and upper bounds for HSV\n",
    "    lower_bound = np.array([l_H, l_S, l_V])\n",
    "    upper_bound = np.array([u_H, u_S, u_V])\n",
    "\n",
    "    # Create a mask with the specified HSV range\n",
    "    mask = cv2.inRange(hsv, lower_bound, upper_bound)\n",
    "\n",
    "    # Apply the mask to the original image\n",
    "    res = cv2.bitwise_and(frame, frame, mask=mask)\n",
    "\n",
    "    # Display the original image, mask, and result\n",
    "    cv2.imshow('Original', frame)\n",
    "    cv2.imshow('Mask', mask)\n",
    "    cv2.imshow('Result', res)\n",
    "\n",
    "    # Exit the loop when 'ESC' key is pressed\n",
    "    if cv2.waitKey(1) & 0xFF == 27:\n",
    "        break\n",
    "\n",
    "cap.release()\n",
    "cv2.destroyAllWindows()"
   ]
  },
  {
   "cell_type": "code",
   "execution_count": null,
   "id": "f3389674-4804-4b92-af27-aeef5214ce26",
   "metadata": {},
   "outputs": [],
   "source": []
  }
 ],
 "metadata": {
  "kernelspec": {
   "display_name": "Python 3 (ipykernel)",
   "language": "python",
   "name": "python3"
  },
  "language_info": {
   "codemirror_mode": {
    "name": "ipython",
    "version": 3
   },
   "file_extension": ".py",
   "mimetype": "text/x-python",
   "name": "python",
   "nbconvert_exporter": "python",
   "pygments_lexer": "ipython3",
   "version": "3.12.5"
  }
 },
 "nbformat": 4,
 "nbformat_minor": 5
}
