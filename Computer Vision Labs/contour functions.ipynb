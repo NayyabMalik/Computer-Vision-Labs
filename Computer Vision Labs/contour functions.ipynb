{
 "cells": [
  {
   "cell_type": "code",
   "execution_count": 1,
   "id": "675298fc-aa26-42df-9cd0-af6721027623",
   "metadata": {},
   "outputs": [],
   "source": [
    "import numpy as np\n",
    "import cv2"
   ]
  },
  {
   "cell_type": "code",
   "execution_count": 38,
   "id": "636210cf-3fd3-4c23-b33e-8c7aef027794",
   "metadata": {},
   "outputs": [
    {
     "name": "stdout",
     "output_type": "stream",
     "text": [
      "1\n"
     ]
    }
   ],
   "source": [
    "img=cv2.imread(r\"C:\\Users\\PMLS\\Documents\\computer vision\\shapes.jpeg\")\n",
    "img=cv2.resize(img,(600,400))\n",
    "img_gray=cv2.cvtColor(img,cv2.COLOR_BGR2GRAY)\n",
    "_,mask=cv2.threshold(img_gray,50,255,1)\n",
    "cnt,hier=cv2.findContours(mask,cv2.RETR_TREE,cv2.CHAIN_APPROX_SIMPLE)\n",
    "print(hier)\n",
    "img=cv2.drawContours(img,cnt,-1,(50,150,200),4)\n",
    "cv2.imshow('img',img)\n",
    "cv2.imshow('img_gray',img_gray)\n",
    "cv2.imshow('mask',mask)\n",
    "cv2.waitKey(0)\n",
    "cv2.destroyAllWindows()"
   ]
  },
  {
   "cell_type": "markdown",
   "id": "52e1b4ab-b9af-488b-ae48-f84496825d42",
   "metadata": {},
   "source": [
    "## moment function\n",
    "### finding mass or center point "
   ]
  },
  {
   "cell_type": "code",
   "execution_count": 16,
   "id": "572cf083-eed7-4c28-b958-d5c0c04fc910",
   "metadata": {},
   "outputs": [],
   "source": [
    "\n",
    "cnt,hier=cv2.findContours(mask,cv2.RETR_TREE,cv2.CHAIN_APPROX_SIMPLE)\n",
    "for c in cnt:\n",
    "    m=cv2.moments(c)\n",
    "    cX=int(m['m10']/m['m00'])\n",
    "    cY=int(m['m01']/m['m00'])\n",
    "    cv2.drawContours(img,[c],-1,(50,150,255),4)\n",
    "    cv2.circle(img,(cX,cY),3,(25,50,75),-1)\n",
    "    cv2.putText(img,'center',(cX-20,cY-20),\n",
    "                cv2.FONT_HERSHEY_SIMPLEX,0.5,(25,50,75),2)\n",
    "cv2.imshow('img',img)\n",
    "cv2.imshow('mask',mask)\n",
    "cv2.waitKey(0)\n",
    "cv2.destroyAllWindows()"
   ]
  },
  {
   "cell_type": "markdown",
   "id": "ae2a82eb-d419-40c8-bf0c-056ffe6bf7ec",
   "metadata": {},
   "source": [
    "## Contour Area\n",
    "## contour moment \n",
    "## convex hull "
   ]
  },
  {
   "cell_type": "code",
   "execution_count": null,
   "id": "4e212748-0ec0-47b4-8783-721c69280441",
   "metadata": {},
   "outputs": [],
   "source": []
  },
  {
   "cell_type": "code",
   "execution_count": 31,
   "id": "b1751f8c-7fb9-4da3-83ba-da619154fd22",
   "metadata": {},
   "outputs": [],
   "source": [
    "\n",
    "cnt,hier=cv2.findContours(mask,cv2.RETR_TREE,cv2.CHAIN_APPROX_SIMPLE)\n",
    "l=[]\n",
    "for c in cnt:\n",
    "    m=cv2.moments(c)\n",
    "    cX=int(m['m10']/m['m00'])\n",
    "    cY=int(m['m01']/m['m00'])    \n",
    "    area=cv2.contourArea(c)\n",
    "    l.append(area)\n",
    "    ## Contour approximation:determine ho much minimum vertex is required for making shape\n",
    "    epsilon=0.01*cv2.arcLength(c,True)# return contour parameter\n",
    "    data=cv2.approxPolyDP(c,epsilon,True)# GIVE approximation in polygon shape\n",
    "    #convexhull  is used to provide proper contours convexity\n",
    "    hull=cv2.convexHull(data)\n",
    "    x,y,w,h=cv2.boundingRect(hull)\n",
    "    img=cv2.rectangle(img,(x,y),(x+w,y+h),(125,10,20),1)\n",
    "    cv2.drawContours(img,[c],-1,(50,150,255),1)\n",
    "    cv2.circle(img,(cX,cY),3,(25,50,75),-1)\n",
    "    cv2.putText(img,'center',(cX-20,cY-20),\n",
    "                cv2.FONT_HERSHEY_SIMPLEX,0.5,(25,50,75),2)\n",
    "cv2.imshow('img',img)\n",
    "cv2.imshow('mask',mask)\n",
    "cv2.waitKey(0)\n",
    "cv2.destroyAllWindows()"
   ]
  },
  {
   "cell_type": "code",
   "execution_count": null,
   "id": "1eee61f4-bc66-488c-98da-2d83abb8b6de",
   "metadata": {},
   "outputs": [],
   "source": []
  }
 ],
 "metadata": {
  "kernelspec": {
   "display_name": "Python 3 (ipykernel)",
   "language": "python",
   "name": "python3"
  },
  "language_info": {
   "codemirror_mode": {
    "name": "ipython",
    "version": 3
   },
   "file_extension": ".py",
   "mimetype": "text/x-python",
   "name": "python",
   "nbconvert_exporter": "python",
   "pygments_lexer": "ipython3",
   "version": "3.12.5"
  }
 },
 "nbformat": 4,
 "nbformat_minor": 5
}
