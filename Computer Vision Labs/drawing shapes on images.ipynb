{
 "cells": [
  {
   "cell_type": "code",
   "execution_count": 2,
   "id": "d10464b9-f63d-4b30-bfa7-48bb806af617",
   "metadata": {},
   "outputs": [],
   "source": [
    "import cv2\n",
    "import numpy as np"
   ]
  },
  {
   "cell_type": "markdown",
   "id": "d7b983f3-810e-4d95-b179-1a25990cc98e",
   "metadata": {},
   "source": [
    "## Line "
   ]
  },
  {
   "cell_type": "code",
   "execution_count": 8,
   "id": "4eb8f7f9-c74c-4624-9e9a-efc7778ee66a",
   "metadata": {},
   "outputs": [],
   "source": [
    "img=cv2.imread(r\"C:\\Users\\PMLS\\Downloads\\colorectal cancer image.jpg\")\n",
    "img=cv2.resize(img,(800,800))\n",
    "img=cv2.line(img,(0,0),(800,800),(15,92,40),2)## cv2.line(img,starting pixel,ending pixel,bgr color,width)\n",
    "cv2.imshow('img',img)\n",
    "cv2.waitKey()\n",
    "cv2.destroyAllWindows()"
   ]
  },
  {
   "cell_type": "markdown",
   "id": "010736f1-78c2-4e68-a0ca-b218f2f9048a",
   "metadata": {},
   "source": [
    "# arrow line"
   ]
  },
  {
   "cell_type": "code",
   "execution_count": 11,
   "id": "10f57333-7f76-4e2a-b9a9-35712007f4e0",
   "metadata": {},
   "outputs": [],
   "source": [
    "img=cv2.imread(r\"C:\\Users\\PMLS\\Downloads\\colorectal cancer image.jpg\")\n",
    "img=cv2.resize(img,(800,800))\n",
    "img=cv2.arrowedLine(img,(0,0),(800,400),(15,92,40),2)## cv2.arrowedLine(img,starting pixel,ending pixel,bgr color,width)\n",
    "cv2.imshow('img',img)\n",
    "cv2.waitKey()\n",
    "cv2.destroyAllWindows()"
   ]
  },
  {
   "cell_type": "markdown",
   "id": "062456a8-2fed-4388-887b-413b1e462e2b",
   "metadata": {},
   "source": [
    "# Rectangle"
   ]
  },
  {
   "cell_type": "code",
   "execution_count": 13,
   "id": "9a978a62-b0ca-4cf9-93ea-e3f06f3695d2",
   "metadata": {},
   "outputs": [],
   "source": [
    "img=cv2.imread(r\"C:\\Users\\PMLS\\Downloads\\colorectal cancer image.jpg\")\n",
    "img=cv2.resize(img,(800,800))\n",
    "img=cv2.rectangle(img,(200,100),(800,400),(15,92,40),2)## cv2.rectangle(img,starting pixel,ending pixel,bgr color,width)\n",
    "cv2.imshow('img',img)\n",
    "cv2.waitKey()\n",
    "cv2.destroyAllWindows()"
   ]
  },
  {
   "cell_type": "markdown",
   "id": "5ef3ac93-d7fd-401c-9ace-01a78249de93",
   "metadata": {},
   "source": [
    "# Circle"
   ]
  },
  {
   "cell_type": "code",
   "execution_count": 17,
   "id": "a9f91ba6-fd9c-4708-85a8-999768853002",
   "metadata": {},
   "outputs": [],
   "source": [
    "img=cv2.imread(r\"C:\\Users\\PMLS\\Downloads\\colorectal cancer image.jpg\")\n",
    "img=cv2.resize(img,(800,800))\n",
    "img=cv2.circle(img,(200,200),100,(15,92,40),5)## cv2.rectangle(img,starting pixel,radious ,bgr color,width)\n",
    "cv2.imshow('img',img)\n",
    "cv2.waitKey()\n",
    "cv2.destroyAllWindows()"
   ]
  },
  {
   "cell_type": "markdown",
   "id": "051f8c79-de49-4430-9a22-73f4e2594836",
   "metadata": {},
   "source": [
    "## PutText"
   ]
  },
  {
   "cell_type": "code",
   "execution_count": 22,
   "id": "ce230e5c-5770-42f2-811b-99302568f37a",
   "metadata": {},
   "outputs": [],
   "source": [
    "img=cv2.imread(r\"C:\\Users\\PMLS\\Downloads\\colorectal cancer image.jpg\")\n",
    "img=cv2.resize(img,(800,800))\n",
    "font=cv2.FONT_HERSHEY_COMPLEX\n",
    "#cv2.putText(img,'text',starting,font,fontsize,color,thickness,linetype)\n",
    "img=cv2.putText(img,'Colorectal Cancer',(100,100),font,4,(0,125,225),5,cv2.LINE_AA)\n",
    "cv2.imshow('img',img)\n",
    "cv2.waitKey()\n",
    "cv2.destroyAllWindows()"
   ]
  },
  {
   "cell_type": "markdown",
   "id": "47130b93-6835-4739-82e6-4d963b7a889a",
   "metadata": {},
   "source": [
    "# elipse"
   ]
  },
  {
   "cell_type": "code",
   "execution_count": 23,
   "id": "4fbb2ca7-1523-4fb7-8aeb-316c99a5f531",
   "metadata": {},
   "outputs": [],
   "source": [
    "cv2.ellipse(img,(100,100),(200,400),0,0,180,150,5)##cv2.ellipse( img,start,(length,height),rotating pointx,rotating point y,color,thickness)\n",
    "cv2.imshow('img',img)\n",
    "cv2.waitKey()\n",
    "cv2.destroyAllWindows()"
   ]
  },
  {
   "cell_type": "markdown",
   "id": "dc36c6fe-cddc-41d5-949d-4db17cef65c9",
   "metadata": {},
   "source": [
    "# create white blank image"
   ]
  },
  {
   "cell_type": "code",
   "execution_count": 27,
   "id": "d3df7171-e421-4895-b18c-73fb6fa91fb7",
   "metadata": {},
   "outputs": [],
   "source": [
    "img=np.ones([512,512,3],np.uint8)*255\n",
    "cv2.imshow('img',img)"
   ]
  },
  {
   "cell_type": "code",
   "execution_count": null,
   "id": "b112d2be-a3c6-454d-b120-a15856f3622e",
   "metadata": {},
   "outputs": [],
   "source": []
  }
 ],
 "metadata": {
  "kernelspec": {
   "display_name": "Python 3 (ipykernel)",
   "language": "python",
   "name": "python3"
  },
  "language_info": {
   "codemirror_mode": {
    "name": "ipython",
    "version": 3
   },
   "file_extension": ".py",
   "mimetype": "text/x-python",
   "name": "python",
   "nbconvert_exporter": "python",
   "pygments_lexer": "ipython3",
   "version": "3.12.5"
  }
 },
 "nbformat": 4,
 "nbformat_minor": 5
}
