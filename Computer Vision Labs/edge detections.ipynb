{
 "cells": [
  {
   "cell_type": "code",
   "execution_count": 1,
   "id": "9cda0cf5-12aa-4eab-8197-b8a34f5bc4ce",
   "metadata": {},
   "outputs": [],
   "source": [
    "import cv2\n",
    "import numpy as np"
   ]
  },
  {
   "cell_type": "code",
   "execution_count": null,
   "id": "4f7c394f-d5d8-4271-9a30-d10c1f284a5b",
   "metadata": {},
   "outputs": [],
   "source": [
    "img=cv2.imread(r\"C:\\Users\\PMLS\\Documents\\computer vision\\panda.jpeg\",0)\n",
    "img=cv2.resize(img,(600,400))\n",
    "cv2.imshow('img',img)\n",
    "cv2.waitKey()\n",
    "cv2.destroyAllWindows()"
   ]
  },
  {
   "cell_type": "markdown",
   "id": "813748c6-289d-43f2-a295-1fca9583b8e5",
   "metadata": {},
   "source": [
    "## Image Gradient\n",
    "### It is directional change in color or intensity in an image"
   ]
  },
  {
   "cell_type": "markdown",
   "id": "8b4bae3c-ffeb-4311-badb-19b63e47553b",
   "metadata": {},
   "source": [
    "## leplace derivation filter\n",
    "### it is used derivation to find edges\n",
    "#### parameters(img,datatype for -ve values,ksize)"
   ]
  },
  {
   "cell_type": "code",
   "execution_count": null,
   "id": "bc478af5-e8e5-43ed-95ae-bf6b857737d9",
   "metadata": {},
   "outputs": [],
   "source": [
    "lap=cv2.Laplacian(img,cv2.CV_64F)\n",
    "lap=np.uint8(np.absolute(lap))## to remove noise\n",
    "cv2.imshow('Laplacian',lap)\n",
    "cv2.waitKey()\n",
    "cv2.destroyAllWindows()"
   ]
  },
  {
   "cell_type": "code",
   "execution_count": 22,
   "id": "41c99c5f-d12e-463b-a104-2adecec9cb01",
   "metadata": {},
   "outputs": [],
   "source": [
    "_,mask=cv2.threshold(img,10,255,cv2.THRESH_BINARY,)\n",
    "lap=cv2.Laplacian(mask,cv2.CV_64F,ksize=5)\n",
    "lap=np.uint8(np.absolute(lap))## to remove noise\n",
    "cv2.imshow('Laplacian',lap)\n",
    "cv2.imshow('mask',mask)\n",
    "cv2.waitKey()\n",
    "cv2.destroyAllWindows()"
   ]
  },
  {
   "cell_type": "markdown",
   "id": "71d4cb28-fa18-42aa-b3c8-a2f435e99efb",
   "metadata": {},
   "source": [
    "## Sobal operations\n",
    "### it is joint combination with guassian smoothing with differentiation to remove noise\n",
    "### this perform edge detection in horizontal and vertical axis"
   ]
  },
  {
   "cell_type": "code",
   "execution_count": 33,
   "id": "013899e3-07c4-480f-b26c-4885c41f675b",
   "metadata": {},
   "outputs": [],
   "source": [
    "sobelx=cv2.Sobel(img,cv2.CV_64F,0,1,ksize=3) #x=1,y=0\n",
    "sobely=cv2.Sobel(img,cv2.CV_64F,1,0,ksize=3)#x=0,y=1\n",
    "sobelx=np.uint8(np.absolute(sobelx))## to remove noise\n",
    "sobely=np.uint8(np.absolute(sobely))## to remove noise becuase  64F convert to unsign intt\n",
    "\n",
    "sobelcombine=cv2.bitwise_or(sobelx,sobely)\n",
    "cv2.imshow('sobelcombine',sobelcombine)\n",
    "cv2.imshow('sobelx',sobelx)\n",
    "cv2.imshow('sobely',sobely)\n",
    "cv2.waitKey()\n",
    "cv2.destroyAllWindows()"
   ]
  },
  {
   "cell_type": "code",
   "execution_count": 29,
   "id": "6170f6c6-ee44-4113-981a-1b19daabe1d1",
   "metadata": {},
   "outputs": [],
   "source": [
    "sobelx=cv2.Sobel(mask,cv2.CV_64F,0,1,ksize=3) #x=1,y=0\n",
    "sobely=cv2.Sobel(mask,cv2.CV_64F,1,0,ksize=3)#x=0,y=1\n",
    "\n",
    "sobelx=np.uint8(np.absolute(sobelx))## to remove noise\n",
    "sobely=np.uint8(np.absolute(sobely))## to remove noise becuase  64F convert to unsign intt\n",
    "cv2.imshow('sobelx',sobelx)\n",
    "cv2.imshow('sobely',sobely)\n",
    "cv2.waitKey()\n",
    "cv2.destroyAllWindows()"
   ]
  },
  {
   "cell_type": "code",
   "execution_count": 32,
   "id": "4884826f-4be6-4966-8a70-aa9b28b7b35d",
   "metadata": {},
   "outputs": [],
   "source": [
    "## combine x andd y sobel\n",
    "\n",
    "sobelcombine=cv2.bitwise_or(sobelx,sobely)\n",
    "cv2.imshow('sobelcombine',sobelcombine)\n",
    "cv2.imshow('sobelx',sobelx)\n",
    "cv2.imshow('sobely',sobely)\n",
    "cv2.waitKey()\n",
    "cv2.destroyAllWindows()"
   ]
  },
  {
   "cell_type": "markdown",
   "id": "5b13154c-bc87-43f2-9739-b2350e8b6715",
   "metadata": {},
   "source": [
    "## Canny edge detection \n",
    "### remove noise->calculate->gradient->non-max suppression->double threshold->edge tracking  by hysteresis "
   ]
  },
  {
   "cell_type": "code",
   "execution_count": null,
   "id": "3defdf54-1343-458a-900a-c25b67c74210",
   "metadata": {},
   "outputs": [],
   "source": [
    "### cv2.Canny(img,lower_thres,upper_thresh)\n",
    "canny=cv2.Canny(img,100,200)\n",
    "cv2.imshow('canny',canny)\n",
    "cv2.waitKey()\n",
    "cv2.destroyAllWindows()"
   ]
  },
  {
   "cell_type": "code",
   "execution_count": null,
   "id": "4ab2e955-7745-4d13-bcab-95bcd3d774d8",
   "metadata": {},
   "outputs": [],
   "source": [
    "def nothing():\n",
    "    pass\n",
    "cv2.namedWindow('Canny')\n",
    "cv2.createTrackbar('threshold','Canny',0,255,nothing)\n",
    "while True:\n",
    "    thres=cv2.getTrackbarPos('threshold','Canny')\n",
    "    canny=cv2.Canny(img,100,200)\n",
    "    cv2.imshow('canny',canny)\n",
    "    if cv2.waitKey(1)=='q':\n",
    "        break\n",
    "cv2.destroyAllWindows()"
   ]
  },
  {
   "cell_type": "code",
   "execution_count": null,
   "id": "430cff0c-0181-4971-919f-6b457ca05e47",
   "metadata": {},
   "outputs": [],
   "source": []
  }
 ],
 "metadata": {
  "kernelspec": {
   "display_name": "Python 3 (ipykernel)",
   "language": "python",
   "name": "python3"
  },
  "language_info": {
   "codemirror_mode": {
    "name": "ipython",
    "version": 3
   },
   "file_extension": ".py",
   "mimetype": "text/x-python",
   "name": "python",
   "nbconvert_exporter": "python",
   "pygments_lexer": "ipython3",
   "version": "3.12.5"
  }
 },
 "nbformat": 4,
 "nbformat_minor": 5
}
