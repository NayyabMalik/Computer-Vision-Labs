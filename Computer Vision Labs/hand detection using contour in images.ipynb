{
 "cells": [
  {
   "cell_type": "code",
   "execution_count": 1,
   "id": "6273c1bd-6203-46c9-bfe5-00a02dece87b",
   "metadata": {},
   "outputs": [],
   "source": [
    "import cv2\n",
    "import numpy as np "
   ]
  },
  {
   "cell_type": "code",
   "execution_count": 4,
   "id": "d738308f-3167-4e4f-bd9b-d90312c4c636",
   "metadata": {},
   "outputs": [
    {
     "name": "stdout",
     "output_type": "stream",
     "text": [
      "1\n"
     ]
    }
   ],
   "source": [
    "img=cv2.imread(r\"C:\\Users\\PMLS\\Documents\\computer vision\\hand.jpeg\")\n",
    "img=cv2.resize(img,(600,400))\n",
    "img_gray=cv2.cvtColor(img,cv2.COLOR_BGR2GRAY)\n",
    "_,mask=cv2.threshold(img_gray,220,255,1)\n",
    "cnt,hier=cv2.findContours(mask,cv2.RETR_TREE,cv2.CHAIN_APPROX_SIMPLE)\n",
    "print(len(cnt))\n",
    "img=cv2.drawContours(img,cnt,-1,(50,150,200),4)\n",
    "cv2.imshow('img',img)\n",
    "cv2.imshow('img_gray',img_gray)\n",
    "cv2.imshow('mask',mask)\n",
    "cv2.waitKey(0)\n",
    "cv2.destroyAllWindows()"
   ]
  },
  {
   "cell_type": "code",
   "execution_count": 5,
   "id": "d8c76dc0-45dc-4487-9f13-3a88203b5143",
   "metadata": {},
   "outputs": [],
   "source": [
    "\n",
    "cnt,hier=cv2.findContours(mask,cv2.RETR_TREE,cv2.CHAIN_APPROX_SIMPLE)\n",
    "l=[]\n",
    "for c in cnt:\n",
    "    ## Contour approximation:determine ho much minimum vertex is required for making shape\n",
    "    epsilon=0.01*cv2.arcLength(c,True)# return contour parameter\n",
    "    data=cv2.approxPolyDP(c,epsilon,True)# GIVE approximation in polygon shape\n",
    "    #convexhull  is used to provide proper contours convexity\n",
    "    hull=cv2.convexHull(data)\n",
    "    cv2.drawContours(img,[hull],-1,(50,150,255),1)\n",
    "    cv2.drawContours(img,[c],-1,(5,15,55),1)\n",
    "cv2.imshow('img',img)\n",
    "cv2.imshow('mask',mask)\n",
    "cv2.waitKey(0)\n",
    "cv2.destroyAllWindows()"
   ]
  },
  {
   "cell_type": "markdown",
   "id": "0fe02451-64d2-4901-aec0-ce1ef0aa980a",
   "metadata": {},
   "source": [
    "## defect convexity \n",
    "### it is used to return array which contain [start,end,farthest and approximation points]"
   ]
  },
  {
   "cell_type": "code",
   "execution_count": 9,
   "id": "1370de2a-8a03-43d8-9d80-3ddde2e878c5",
   "metadata": {},
   "outputs": [],
   "source": [
    "hull2=cv2.convexHull(cnt[0],returnPoints=False)\n",
    "defect=cv2.convexityDefects(cnt[0],hull2)\n",
    "for i in range(defect.shape[0]):\n",
    "    s,e,f,a=defect[i,0]\n",
    "    start=tuple(c[s][0])\n",
    "    end=tuple(c[e][0])\n",
    "    farther=tuple(c[f][0])    \n",
    "    cv2.circle(img,farther,5,[30,54,90],-1)\n",
    "cv2.imshow('img',img)\n",
    "cv2.waitKey(0)\n",
    "cv2.destroyAllWindows()"
   ]
  },
  {
   "cell_type": "markdown",
   "id": "16acd5b1-04bb-4f9c-a89e-13b8509c7dd2",
   "metadata": {},
   "source": [
    "## extreme points\n",
    "### it get topmost,topbottom ,rightmost and leftmost point of objects\n"
   ]
  },
  {
   "cell_type": "code",
   "execution_count": 12,
   "id": "c7cbeb63-f0df-48a7-9290-87f0ace489ca",
   "metadata": {},
   "outputs": [],
   "source": [
    "c_max=max(cnt,key=cv2.contourArea)\n",
    "exleft=tuple(c_max[c_max[:,:,0].argmin()][0])\n",
    "exright=tuple(c_max[c_max[:,:,0].argmin()][0])\n",
    "extop=tuple(c_max[c_max[:,:,1].argmin()][0])\n",
    "exbottom=tuple(c_max[c_max[:,:,1].argmin()][0])\n",
    "cv2.circle(img,exleft,10,[250,0,250],-1)#pink\n",
    "cv2.circle(img,exright,10,[0,125,255],-1)#brown\n",
    "cv2.circle(img,extop,10,[255,10,0],-1)#blue\n",
    "cv2.circle(img,exbottom,10,[19,152,152],-1)#green\n",
    "cv2.imshow('img',img)\n",
    "cv2.waitKey(0)\n",
    "cv2.destroyAllWindows()\n"
   ]
  },
  {
   "cell_type": "code",
   "execution_count": null,
   "id": "aa0c99bf-26a6-4837-88f1-22c397818e3c",
   "metadata": {},
   "outputs": [],
   "source": []
  }
 ],
 "metadata": {
  "kernelspec": {
   "display_name": "Python 3 (ipykernel)",
   "language": "python",
   "name": "python3"
  },
  "language_info": {
   "codemirror_mode": {
    "name": "ipython",
    "version": 3
   },
   "file_extension": ".py",
   "mimetype": "text/x-python",
   "name": "python",
   "nbconvert_exporter": "python",
   "pygments_lexer": "ipython3",
   "version": "3.12.5"
  }
 },
 "nbformat": 4,
 "nbformat_minor": 5
}
