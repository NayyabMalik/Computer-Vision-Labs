{
 "cells": [
  {
   "cell_type": "code",
   "execution_count": 1,
   "id": "073c7fc3-66a2-4890-9584-cd08c970cfcd",
   "metadata": {},
   "outputs": [],
   "source": [
    "import cv2"
   ]
  },
  {
   "cell_type": "code",
   "execution_count": null,
   "id": "6e36e0d0-37e8-4201-b0b2-f39b7f7c6533",
   "metadata": {},
   "outputs": [],
   "source": [
    "img1=cv2.imread(r\"C:\\Users\\PMLS\\Documents\\computer vision\\panda.jpeg\")\n",
    "img2=cv2.imread(r\"C:\\Users\\PMLS\\Documents\\computer vision\\owl.jpeg\")\n",
    "img1=cv2.resize(img1,(500,700))\n",
    "img2=cv2.resize(img2,(500,700))\n",
    "\n",
    "cv2.imshow('img',img1)\n",
    "cv2.imshow('img',img2)\n",
    "\n",
    "cv2.waitKey(0)\n",
    "cv2.destroyAllWindows()"
   ]
  },
  {
   "cell_type": "markdown",
   "id": "acd3961c-fafc-4f99-8067-86cfba46cdf3",
   "metadata": {},
   "source": [
    "## img blending simple addition(it's not good)"
   ]
  },
  {
   "cell_type": "code",
   "execution_count": null,
   "id": "50364db9-8c0e-4785-aef8-54fdb4934192",
   "metadata": {},
   "outputs": [],
   "source": [
    "res=img2+img1\n",
    "cv2.imshow('img',res)\n",
    "\n",
    "cv2.waitKey(0)\n",
    "cv2.destroyAllWindows()"
   ]
  },
  {
   "cell_type": "markdown",
   "id": "da85e88f-b984-46e5-831d-8d51a61cf6ea",
   "metadata": {},
   "source": [
    "## img blending using cv2.add(img1,img2)"
   ]
  },
  {
   "cell_type": "code",
   "execution_count": 8,
   "id": "df5f1c11-c42e-4c51-9a69-20e83bb151cb",
   "metadata": {},
   "outputs": [],
   "source": [
    "res=cv2.add(img1,img2)## modulus addition \n",
    "cv2.imshow('img',res)\n",
    "cv2.waitKey(0)\n",
    "cv2.destroyAllWindows()"
   ]
  },
  {
   "cell_type": "markdown",
   "id": "f0a4bc4c-c290-4924-a1fe-180cecedb625",
   "metadata": {},
   "source": [
    "## image blending to control which image blend more\n",
    "### cv2.addWeighted(img1,w1,img2,w2,gema=0(by default))"
   ]
  },
  {
   "cell_type": "code",
   "execution_count": 12,
   "id": "a8c412f0-38da-4abf-8f63-15f458e07b44",
   "metadata": {},
   "outputs": [],
   "source": [
    "res=cv2.addWeighted(img1,0.5,img2,0.5,0)## w1+w2=1\n",
    "cv2.imshow('img',res)\n",
    "cv2.waitKey(0)\n",
    "cv2.destroyAllWindows()"
   ]
  },
  {
   "cell_type": "markdown",
   "id": "f718f2c8-f4f3-49e9-8525-7de4945ba1cc",
   "metadata": {},
   "source": [
    "## project"
   ]
  },
  {
   "cell_type": "code",
   "execution_count": null,
   "id": "69c25d64-d9dd-4551-8408-b1f0f769a4a6",
   "metadata": {},
   "outputs": [],
   "source": [
    "import numpy as np\n",
    "import cv2\n",
    "\n",
    "# Create a blend function\n",
    "def blend(val):\n",
    "    pass\n",
    "\n",
    "# Create two example images (use your own images here)\n",
    "img1 = np.zeros([400, 400, 3], np.uint8)  # Black image\n",
    "img2 = np.ones([400, 400, 3], np.uint8) * 255  # White image\n",
    "\n",
    "# Create a named window\n",
    "cv2.namedWindow('win')\n",
    "\n",
    "# Create trackbars\n",
    "cv2.createTrackbar('alpha', 'win', 1, 100, blend)  # Alpha for blending\n",
    "switch = '0:OFF\\n1:ON'\n",
    "cv2.createTrackbar(switch, 'win', 0, 1, blend)  # Switch to turn blending on/off\n",
    "\n",
    "while True:\n",
    "    s = cv2.getTrackbarPos(switch, 'win')  # Get the switch value\n",
    "    a = cv2.getTrackbarPos('alpha', 'win')  # Get the alpha value\n",
    "    n = float(a) / 100  # Calculate the normalized alpha value\n",
    "\n",
    "    if s == 0:\n",
    "        dst = img1[:]  # No blending, just show img1\n",
    "    else:\n",
    "        dst = cv2.addWeighted(img1, 1 - n, img2, n, 0)  # Blended image\n",
    "        # Add text showing alpha value on the image\n",
    "        cv2.putText(dst, str(a), (50, 50), cv2.FONT_HERSHEY_COMPLEX, 2, (0, 255, 255), 1)\n",
    "\n",
    "    cv2.imshow('img', dst)  # Display the image\n",
    "\n",
    "    # Exit on pressing 'Esc'\n",
    "    if cv2.waitKey(1) == 27:\n",
    "        break\n",
    "\n",
    "cv2.destroyAllWindows()\n"
   ]
  },
  {
   "cell_type": "code",
   "execution_count": null,
   "id": "a77a251f-7586-4031-b032-b65182b12c11",
   "metadata": {},
   "outputs": [],
   "source": []
  }
 ],
 "metadata": {
  "kernelspec": {
   "display_name": "Python 3 (ipykernel)",
   "language": "python",
   "name": "python3"
  },
  "language_info": {
   "codemirror_mode": {
    "name": "ipython",
    "version": 3
   },
   "file_extension": ".py",
   "mimetype": "text/x-python",
   "name": "python",
   "nbconvert_exporter": "python",
   "pygments_lexer": "ipython3",
   "version": "3.12.5"
  }
 },
 "nbformat": 4,
 "nbformat_minor": 5
}
