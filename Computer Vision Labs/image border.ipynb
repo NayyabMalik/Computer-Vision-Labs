{
 "cells": [
  {
   "cell_type": "code",
   "execution_count": 2,
   "id": "2819bb51-e97b-4d36-bec8-89852df15946",
   "metadata": {},
   "outputs": [],
   "source": [
    "import cv2\n",
    "import numpy as np"
   ]
  },
  {
   "cell_type": "code",
   "execution_count": 14,
   "id": "3dc8cd19-487d-43fb-868c-450090d080da",
   "metadata": {},
   "outputs": [],
   "source": [
    "img=cv2.imread(r\"C:\\Users\\PMLS\\Documents\\computer vision\\owl.jpeg\")\n",
    "img=cv2.resize(img,(800,800))\n",
    "\n",
    "##cv2.copyMakeBorder(img,border_width(top,bottom,left,right),bordertype,valborder)\n",
    "border=cv2.copyMakeBorder(img,10,10,5,5,cv2.BORDER_CONSTANT,value=[255,0,50])\n",
    "\n",
    "cv2.imshow('img',border)\n",
    "cv2.waitKey()\n",
    "cv2.destroyAllWindows()"
   ]
  },
  {
   "cell_type": "code",
   "execution_count": null,
   "id": "c192094b-a52d-4b4a-b418-9611d025d6f0",
   "metadata": {},
   "outputs": [],
   "source": []
  }
 ],
 "metadata": {
  "kernelspec": {
   "display_name": "Python 3 (ipykernel)",
   "language": "python",
   "name": "python3"
  },
  "language_info": {
   "codemirror_mode": {
    "name": "ipython",
    "version": 3
   },
   "file_extension": ".py",
   "mimetype": "text/x-python",
   "name": "python",
   "nbconvert_exporter": "python",
   "pygments_lexer": "ipython3",
   "version": "3.12.5"
  }
 },
 "nbformat": 4,
 "nbformat_minor": 5
}
