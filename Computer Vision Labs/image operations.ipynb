{
 "cells": [
  {
   "cell_type": "code",
   "execution_count": 3,
   "id": "0f4539a3-4e08-493d-8bfb-4768991da0dc",
   "metadata": {},
   "outputs": [],
   "source": [
    "import cv2\n",
    "import numpy as np"
   ]
  },
  {
   "cell_type": "code",
   "execution_count": null,
   "id": "2383c5e5-3cd9-476c-a5c0-fb2dd1858760",
   "metadata": {},
   "outputs": [],
   "source": [
    "img=cv2.imread(r\"C:\\Users\\PMLS\\Documents\\computer vision\\panda.jpeg\")\n",
    "cv2.imshow('img',img)\n",
    "cv2.waitKey(0)\n",
    "cv2.destroyAllWindows()"
   ]
  },
  {
   "cell_type": "markdown",
   "id": "0182e334-152c-404f-8045-c5d63b398d85",
   "metadata": {},
   "source": [
    "## Basic Operation"
   ]
  },
  {
   "cell_type": "code",
   "execution_count": 3,
   "id": "85851624-24f9-43b5-afcf-64b73c18f8f9",
   "metadata": {},
   "outputs": [
    {
     "data": {
      "text/plain": [
       "(840, 1260, 3)"
      ]
     },
     "execution_count": 3,
     "metadata": {},
     "output_type": "execute_result"
    }
   ],
   "source": [
    "img.shape#rows,columns,channels"
   ]
  },
  {
   "cell_type": "code",
   "execution_count": 4,
   "id": "16c2e888-acb4-46f8-982f-a6fa7c1b9a3a",
   "metadata": {},
   "outputs": [
    {
     "data": {
      "text/plain": [
       "3175200"
      ]
     },
     "execution_count": 4,
     "metadata": {},
     "output_type": "execute_result"
    }
   ],
   "source": [
    "img.size ## total no of pixels"
   ]
  },
  {
   "cell_type": "code",
   "execution_count": 5,
   "id": "2f154db6-08b6-43a0-82bd-67615b163f98",
   "metadata": {},
   "outputs": [
    {
     "data": {
      "text/plain": [
       "dtype('uint8')"
      ]
     },
     "execution_count": 5,
     "metadata": {},
     "output_type": "execute_result"
    }
   ],
   "source": [
    "img.dtype## type of pixels to check quality "
   ]
  },
  {
   "cell_type": "code",
   "execution_count": 6,
   "id": "d14280f1-526a-4372-a814-334a2def814d",
   "metadata": {},
   "outputs": [
    {
     "data": {
      "text/plain": [
       "numpy.ndarray"
      ]
     },
     "execution_count": 6,
     "metadata": {},
     "output_type": "execute_result"
    }
   ],
   "source": [
    "type(img)## img store in array"
   ]
  },
  {
   "cell_type": "markdown",
   "id": "701d8583-cf80-4435-b19a-40cc20829a47",
   "metadata": {},
   "source": [
    "# split function"
   ]
  },
  {
   "cell_type": "code",
   "execution_count": 7,
   "id": "c2fa55d3-4c70-4ac7-8e50-5d64c0c4861d",
   "metadata": {},
   "outputs": [
    {
     "data": {
      "text/plain": [
       "(array([[242, 242, 242, ..., 242, 242, 242],\n",
       "        [242, 242, 242, ..., 242, 242, 242],\n",
       "        [242, 242, 242, ..., 242, 242, 242],\n",
       "        ...,\n",
       "        [238, 238, 238, ..., 102, 102, 102],\n",
       "        [237, 237, 237, ..., 104, 104, 104],\n",
       "        [237, 237, 237, ..., 106, 106, 106]], dtype=uint8),\n",
       " array([[254, 254, 254, ..., 254, 254, 254],\n",
       "        [254, 254, 254, ..., 254, 254, 254],\n",
       "        [254, 254, 254, ..., 254, 254, 254],\n",
       "        ...,\n",
       "        [253, 253, 253, ..., 107, 107, 107],\n",
       "        [252, 252, 252, ..., 108, 108, 108],\n",
       "        [252, 252, 252, ..., 110, 110, 110]], dtype=uint8),\n",
       " array([[254, 254, 254, ..., 254, 254, 254],\n",
       "        [254, 254, 254, ..., 254, 254, 254],\n",
       "        [254, 254, 254, ..., 254, 254, 254],\n",
       "        ...,\n",
       "        [255, 255, 255, ..., 116, 116, 116],\n",
       "        [255, 255, 254, ..., 119, 119, 119],\n",
       "        [255, 255, 254, ..., 121, 121, 121]], dtype=uint8))"
      ]
     },
     "execution_count": 7,
     "metadata": {},
     "output_type": "execute_result"
    }
   ],
   "source": [
    "cv2.split(img)"
   ]
  },
  {
   "cell_type": "code",
   "execution_count": 8,
   "id": "fee4b3ef-a701-4b37-b2e4-af60529f941f",
   "metadata": {},
   "outputs": [],
   "source": [
    "b,g,r=cv2.split(img)"
   ]
  },
  {
   "cell_type": "code",
   "execution_count": 9,
   "id": "cff9482d-99c4-4639-816b-e5d5a31cab78",
   "metadata": {},
   "outputs": [],
   "source": [
    "cv2.imshow('b',b)\n",
    "cv2.imshow('g',g)\n",
    "cv2.imshow('r',r)\n",
    "cv2.imshow('img',img)\n",
    "\n",
    "cv2.waitKey(0)\n",
    "cv2.destroyAllWindows()"
   ]
  },
  {
   "cell_type": "markdown",
   "id": "c1c50f4b-df40-438f-8ceb-2d43b2020244",
   "metadata": {},
   "source": [
    "# MERGE "
   ]
  },
  {
   "cell_type": "code",
   "execution_count": 12,
   "id": "de21adde-d746-426d-aae2-108cd58a7030",
   "metadata": {},
   "outputs": [],
   "source": [
    "merge1=cv2.merge((r,g,b))\n",
    "merge1=cv2.resize(merge1,(800,800))\n",
    "cv2.imshow('bgr',merge1)\n",
    "cv2.waitKey(0)\n",
    "cv2.destroyAllWindows()"
   ]
  },
  {
   "cell_type": "code",
   "execution_count": 13,
   "id": "079d9fb3-e293-482e-b51a-6c89c872eaff",
   "metadata": {},
   "outputs": [],
   "source": [
    "merge2=cv2.merge((b,r,g))\n",
    "merge1=cv2.resize(merge2,(800,800))\n",
    "cv2.imshow('bgr',merge2)\n",
    "cv2.waitKey(0)\n",
    "cv2.destroyAllWindows()"
   ]
  },
  {
   "cell_type": "code",
   "execution_count": 15,
   "id": "35171281-9173-44c9-b0d8-e5af50b1278d",
   "metadata": {},
   "outputs": [],
   "source": [
    "merge2=cv2.merge((b,g,r))\n",
    "merge1=cv2.resize(merge2,(800,800))\n",
    "cv2.imshow('bgr',merge2)\n",
    "cv2.waitKey(0)\n",
    "cv2.destroyAllWindows()"
   ]
  },
  {
   "cell_type": "markdown",
   "id": "acf03b3b-874a-4be2-93e2-715e9207acc4",
   "metadata": {},
   "source": [
    "### get pixel value separately for blue,green and red along with togerther value"
   ]
  },
  {
   "cell_type": "code",
   "execution_count": null,
   "id": "82a83b63-ee62-4f81-83a0-61769c05a0ea",
   "metadata": {},
   "outputs": [],
   "source": [
    "px=img[520:580]\n",
    "b_px=img[520,580,0]\n",
    "print('pixel having blue color',b_px)\n",
    "g_px=img[520,580,1]\n",
    "print('pixel having green color',g_px)\n",
    "r_px=img[520,580,2]\n",
    "print('pixel having red color',r_px)\n"
   ]
  },
  {
   "cell_type": "code",
   "execution_count": null,
   "id": "bcf33a45-a911-4cc5-9f69-1722c01edfa9",
   "metadata": {},
   "outputs": [],
   "source": []
  }
 ],
 "metadata": {
  "kernelspec": {
   "display_name": "Python 3 (ipykernel)",
   "language": "python",
   "name": "python3"
  },
  "language_info": {
   "codemirror_mode": {
    "name": "ipython",
    "version": 3
   },
   "file_extension": ".py",
   "mimetype": "text/x-python",
   "name": "python",
   "nbconvert_exporter": "python",
   "pygments_lexer": "ipython3",
   "version": "3.12.5"
  }
 },
 "nbformat": 4,
 "nbformat_minor": 5
}
