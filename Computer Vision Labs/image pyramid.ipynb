{
 "cells": [
  {
   "cell_type": "code",
   "execution_count": 1,
   "id": "9e34f0fc-194e-4c9b-991d-52ca275f319b",
   "metadata": {},
   "outputs": [],
   "source": [
    "import cv2\n",
    "import numpy as np"
   ]
  },
  {
   "cell_type": "markdown",
   "id": "f6193644-8c63-4d46-8d73-3518076c9855",
   "metadata": {},
   "source": [
    "## in image pyramid we separate multiple resolution "
   ]
  },
  {
   "cell_type": "markdown",
   "id": "507f9751-ca48-4a10-953a-595b294bfa2c",
   "metadata": {},
   "source": [
    "## Guassian pyramid\n",
    "## Two functions used pyrUp and pyrdown used "
   ]
  },
  {
   "cell_type": "code",
   "execution_count": 13,
   "id": "c20c954e-897f-494c-b0c5-c854c07ecc6f",
   "metadata": {},
   "outputs": [],
   "source": [
    "img=cv2.imread(r\"C:\\Users\\PMLS\\Documents\\computer vision\\panda.jpeg\")\n",
    "img=cv2.resize(img,(600,400))\n",
    "pd1=cv2.pyrDown(img)\n",
    "pd2=cv2.pyrDown(pd1)\n",
    "cv2.imshow('pyrDown',pd1)\n",
    "cv2.imshow('pyrDown 1',pd2)\n",
    "cv2.imshow('img',img)\n",
    "\n",
    "cv2.waitKey(0)\n",
    "cv2.destroyAllWindows()"
   ]
  },
  {
   "cell_type": "code",
   "execution_count": 14,
   "id": "20d854f0-1b62-4313-aea7-ee06e257d374",
   "metadata": {},
   "outputs": [],
   "source": [
    "img=cv2.imread(r\"C:\\Users\\PMLS\\Documents\\computer vision\\panda.jpeg\")\n",
    "img=cv2.resize(img,(600,400))\n",
    "pu1=cv2.pyrUp(img)\n",
    "\n",
    "pu2=cv2.pyrUp(pd1)\n",
    "cv2.imshow('pyrUp',pd1)\n",
    "cv2.imshow('pyrUp 1',pd2)\n",
    "cv2.imshow('img',img)\n",
    "\n",
    "cv2.waitKey(0)\n",
    "cv2.destroyAllWindows()"
   ]
  },
  {
   "cell_type": "code",
   "execution_count": 15,
   "id": "48093b6e-5123-4b06-8f2f-1d4b19916467",
   "metadata": {},
   "outputs": [],
   "source": [
    "pd1=cv2.pyrDown(img)\n",
    "pd2=cv2.pyrDown(pd1)\n",
    "pu1=cv2.pyrUp(pd2)\n",
    "pu2=cv2.pyrUp(pd1)\n",
    "\n",
    "\n",
    "cv2.imshow('pyrDown',pd1)\n",
    "cv2.imshow('pyrDown 1',pd2)\n",
    "cv2.imshow('img',img)\n",
    "cv2.imshow('pyrUp',pu1)\n",
    "cv2.imshow('pyrUp 1',pu2)\n",
    "cv2.waitKey(0)\n",
    "cv2.destroyAllWindows()"
   ]
  },
  {
   "cell_type": "code",
   "execution_count": null,
   "id": "13bd0d1d-521a-4c0a-a420-9b17b2f36dbd",
   "metadata": {},
   "outputs": [],
   "source": [
    "## using loop\n",
    "img1=img.copy()\n",
    "data=[img1]\n",
    "for i in range(3):\n",
    "    img1=cv2.pyrDown(img1)\n",
    "    data.append(img1)\n",
    "    cv2.imshow('res'+str(i),img1)\n",
    "    \n",
    "cv2.waitKey(0)\n",
    "cv2.destroyAllWindows()    "
   ]
  },
  {
   "cell_type": "code",
   "execution_count": null,
   "id": "f41bbf9e-a220-4340-a02a-05284a1601f0",
   "metadata": {},
   "outputs": [],
   "source": []
  }
 ],
 "metadata": {
  "kernelspec": {
   "display_name": "Python 3 (ipykernel)",
   "language": "python",
   "name": "python3"
  },
  "language_info": {
   "codemirror_mode": {
    "name": "ipython",
    "version": 3
   },
   "file_extension": ".py",
   "mimetype": "text/x-python",
   "name": "python",
   "nbconvert_exporter": "python",
   "pygments_lexer": "ipython3",
   "version": "3.12.5"
  }
 },
 "nbformat": 4,
 "nbformat_minor": 5
}
