{
 "cells": [
  {
   "cell_type": "code",
   "execution_count": 1,
   "id": "def631e1-77be-400a-9451-1e121eaaef79",
   "metadata": {},
   "outputs": [],
   "source": [
    "import cv2\n",
    "import numpy \n",
    "import datetime"
   ]
  },
  {
   "cell_type": "markdown",
   "id": "bbd34d5c-acdc-4027-b37c-a77ba816f5df",
   "metadata": {},
   "source": [
    "## Add Text"
   ]
  },
  {
   "cell_type": "code",
   "execution_count": 9,
   "id": "7d5d5ed9-4af9-485d-995c-8044eb19f261",
   "metadata": {},
   "outputs": [
    {
     "name": "stdout",
     "output_type": "stream",
     "text": [
      "height 478.0\n",
      "width 850.0\n"
     ]
    }
   ],
   "source": [
    "cap=cv2.VideoCapture(r\"C:\\Users\\PMLS\\Downloads\\WhatsApp Video 2024-09-05 at 12.35.17_c1802fe3.mp4\")\n",
    "print('height',cap.get(3))# 3 for height \n",
    "print('width',cap.get(4))# 4 for width \n",
    "\n",
    "while True:\n",
    "    ret,frame=cap.read()\n",
    "    if ret==True:\n",
    "        font=cv2.FONT_HERSHEY_COMPLEX_SMALL\n",
    "        date_data='date: '+str(datetime.datetime.now())\n",
    "        text='height: '+str(cap.get(3))+' width: '+str(cap.get(4))\n",
    "        frame=cv2.putText(frame,text,(50,50),font,1,(150,150,50),2,cv2.LINE_8)\n",
    "        frame=cv2.putText(frame,date_data,(100,100),font,1,(30,20,50),2,cv2.LINE_8)\n",
    "        cv2.imshow('img',frame)\n",
    "        if cv2.waitKey(25)==ord('q'):\n",
    "            break\n",
    "cap.release()\n",
    "cv2.destroyAllWindows()"
   ]
  },
  {
   "cell_type": "markdown",
   "id": "108623fe-ed8e-46a1-8306-3b0b207b7a50",
   "metadata": {},
   "source": [
    "### draw shapes"
   ]
  },
  {
   "cell_type": "code",
   "execution_count": 20,
   "id": "ae2d83d9-420d-490c-babe-7ec5411a8b51",
   "metadata": {},
   "outputs": [
    {
     "name": "stdout",
     "output_type": "stream",
     "text": [
      "height 640.0\n",
      "width 480.0\n"
     ]
    }
   ],
   "source": [
    "cap=cv2.VideoCapture(0)\n",
    "print('height',cap.get(3))# 3 for height \n",
    "print('width',cap.get(4))# 4 for width \n",
    "\n",
    "while True:\n",
    "    ret,frame=cap.read()\n",
    "    if ret==True:\n",
    "        frame=cv2.rectangle(frame,(100,80),(450,600),(115,200,80),5)\n",
    "        cv2.imshow('img',frame)\n",
    "        if cv2.waitKey(25)==ord('q'):\n",
    "            break\n",
    "cap.release()\n",
    "cv2.destroyAllWindows()"
   ]
  },
  {
   "cell_type": "code",
   "execution_count": null,
   "id": "cb6c4c11-347c-4614-a3f9-f21642968dbf",
   "metadata": {},
   "outputs": [],
   "source": []
  }
 ],
 "metadata": {
  "kernelspec": {
   "display_name": "Python 3 (ipykernel)",
   "language": "python",
   "name": "python3"
  },
  "language_info": {
   "codemirror_mode": {
    "name": "ipython",
    "version": 3
   },
   "file_extension": ".py",
   "mimetype": "text/x-python",
   "name": "python",
   "nbconvert_exporter": "python",
   "pygments_lexer": "ipython3",
   "version": "3.12.5"
  }
 },
 "nbformat": 4,
 "nbformat_minor": 5
}
